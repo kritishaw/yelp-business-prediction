{
 "cells": [
  {
   "cell_type": "code",
   "execution_count": 1,
   "metadata": {
    "collapsed": false
   },
   "outputs": [
    {
     "name": "stdout",
     "output_type": "stream",
     "text": [
      "0.18.0\n"
     ]
    },
    {
     "name": "stderr",
     "output_type": "stream",
     "text": [
      "C:\\Users\\kritz\\Anaconda2\\lib\\site-packages\\IPython\\core\\interactiveshell.py:2885: FutureWarning: \n",
      "mpl_style had been deprecated and will be removed in a future version.\n",
      "Use `matplotlib.pyplot.style.use` instead.\n",
      "\n",
      "  exec(code_obj, self.user_global_ns, self.user_ns)\n"
     ]
    }
   ],
   "source": [
    "import numpy as np\n",
    "import pandas as pd\n",
    "import matplotlib.pyplot as plt\n",
    "from pandas import Series, DataFrame\n",
    "\n",
    "%matplotlib inline\n",
    "pd.options.display.mpl_style = 'default'\n",
    "print pd.__version__\n",
    "\n",
    "import os\n",
    "from IPython.core.display import HTML\n",
    "\n"
   ]
  },
  {
   "cell_type": "code",
   "execution_count": 2,
   "metadata": {
    "collapsed": true
   },
   "outputs": [],
   "source": [
    "from __future__ import print_function\n",
    "import sys\n",
    "\n",
    "spark_home = 'C:\\Users\\kritz\\Desktop\\Spark-Workshop-master\\spark-1.6.1-bin-hadoop2.6'\n",
    "\n",
    "os.environ['SPARK_HOME'] = spark_home\n",
    "sys.path.insert(0, spark_home + \"/python\")\n",
    "sys.path.insert(0, os.path.join(spark_home, 'python\\lib\\py4j-0.9-src.zip'))"
   ]
  },
  {
   "cell_type": "code",
   "execution_count": 4,
   "metadata": {
    "collapsed": true
   },
   "outputs": [],
   "source": [
    "# Converting the file into an array of JSON objects\n",
    "with open('yelp_academic_dataset_business.json', 'rb') as f:\n",
    "    data = f.readlines()\n",
    "\n",
    "# remove the trailing \"\\n\" from each line\n",
    "data = map(lambda x: x.rstrip(), data)\n",
    "data_json_str = \"[\" + ','.join(data) + \"]\"\n",
    "\n",
    "# loading it into pandas\n",
    "business_DF = pd.read_json(data_json_str)\n",
    "business_DF.rename(columns={'name': 'business_name', 'review_count': 'business_review_count', 'stars': 'business_stars'}, inplace=True)"
   ]
  },
  {
   "cell_type": "code",
   "execution_count": 5,
   "metadata": {
    "collapsed": true
   },
   "outputs": [],
   "source": [
    "# Converting the file into an array of JSON objects\n",
    "\n",
    "with open('yelp_academic_dataset_user.json', 'rb') as f:\n",
    "    data = f.readlines()\n",
    "\n",
    "# remove the trailing \"\\n\" from each line\n",
    "data = map(lambda x: x.rstrip(), data)\n",
    "\n",
    "data_json_str = \"[\" + ','.join(data) + \"]\"\n",
    "\n",
    "# loading it into pandas\n",
    "user_DF = pd.read_json(data_json_str)\n",
    "user_DF.rename(columns={'name': 'user_name', 'review_count': 'user_review_count', 'votes': 'user_votes'}, inplace=True)"
   ]
  },
  {
   "cell_type": "code",
   "execution_count": 6,
   "metadata": {
    "collapsed": true
   },
   "outputs": [],
   "source": [
    "\n",
    "# Converting the file into an array of JSON objects\n",
    "with open('yelp_academic_dataset_review.json', 'rb') as f:\n",
    "    data = f.readlines()\n",
    "\n",
    "# remove the trailing \"\\n\" from each line\n",
    "data = map(lambda x: x.rstrip(), data)\n",
    "\n",
    "data_json_str = \"[\" + ','.join(data) + \"]\"\n",
    "\n",
    "# loading it into pandas\n",
    "review_DF = pd.read_json(data_json_str)\n",
    "review_DF.rename(columns={'stars': 'review_stars', 'text': 'review_text', 'date': 'review_date', 'votes': 'review_votes'}, inplace=True)"
   ]
  },
  {
   "cell_type": "code",
   "execution_count": 7,
   "metadata": {
    "collapsed": true
   },
   "outputs": [],
   "source": [
    "# Converting the file into an array of JSON objects\n",
    "\n",
    "with open('yelp_academic_dataset_tip.json', 'rb') as f:\n",
    "    data = f.readlines()\n",
    "\n",
    "# remove the trailing \"\\n\" from each line\n",
    "data = map(lambda x: x.rstrip(), data)\n",
    "data_json_str = \"[\" + ','.join(data) + \"]\"\n",
    "\n",
    "# loading it into pandas\n",
    "tip_DF = pd.read_json(data_json_str)\n",
    "tip_DF.rename(columns={'text': 'tip_text', 'date': 'tip_date'}, inplace=True)"
   ]
  },
  {
   "cell_type": "code",
   "execution_count": 8,
   "metadata": {
    "collapsed": true
   },
   "outputs": [],
   "source": [
    "business_csv_filename = os.path.join( 'yelp_academic_dataset_business.csv')\n",
    "user_csv_filename = os.path.join('yelp_academic_dataset_user.csv')\n",
    "\n",
    "if not os.path.isfile(business_csv_filename):\n",
    "    business_DF.to_csv(business_csv_filename, index=False, encoding='utf-8')\n",
    "    \n",
    "if not os.path.isfile(user_csv_filename):\n",
    "    user_DF.to_csv(user_csv_filename, index=False, encoding='utf-8')"
   ]
  },
  {
   "cell_type": "code",
   "execution_count": 9,
   "metadata": {
    "collapsed": true
   },
   "outputs": [],
   "source": [
    "business_and_review_DF = pd.merge(business_DF, review_DF, on='business_id', how='inner')\n",
    "business_and_user_and_review_DF = pd.merge(business_and_review_DF, user_DF, on ='user_id', how='inner')"
   ]
  },
  {
   "cell_type": "code",
   "execution_count": 10,
   "metadata": {
    "collapsed": false
   },
   "outputs": [
    {
     "data": {
      "text/html": [
       "<div>\n",
       "<table border=\"1\" class=\"dataframe\">\n",
       "  <thead>\n",
       "    <tr style=\"text-align: right;\">\n",
       "      <th></th>\n",
       "      <th>attributes</th>\n",
       "      <th>business_id</th>\n",
       "      <th>categories</th>\n",
       "      <th>city</th>\n",
       "      <th>full_address</th>\n",
       "      <th>hours</th>\n",
       "      <th>latitude</th>\n",
       "      <th>longitude</th>\n",
       "      <th>business_name</th>\n",
       "      <th>neighborhoods</th>\n",
       "      <th>...</th>\n",
       "      <th>friends</th>\n",
       "      <th>user_name</th>\n",
       "      <th>user_review_count</th>\n",
       "      <th>type_x</th>\n",
       "      <th>user_votes</th>\n",
       "      <th>yelping_since</th>\n",
       "      <th>tip_date</th>\n",
       "      <th>likes</th>\n",
       "      <th>tip_text</th>\n",
       "      <th>type_y</th>\n",
       "    </tr>\n",
       "  </thead>\n",
       "  <tbody>\n",
       "    <tr>\n",
       "      <th>0</th>\n",
       "      <td>{}</td>\n",
       "      <td>6c2pWWtdQZA3w5raX6k-dg</td>\n",
       "      <td>[Barbers, Beauty &amp; Spas]</td>\n",
       "      <td>Homestead</td>\n",
       "      <td>3510 Main St\\nHomestead, PA 15120</td>\n",
       "      <td>{u'Tuesday': {u'close': u'17:30', u'open': u'0...</td>\n",
       "      <td>40.385508</td>\n",
       "      <td>-79.903491</td>\n",
       "      <td>Carmine's Barber Shop</td>\n",
       "      <td>[]</td>\n",
       "      <td>...</td>\n",
       "      <td>[DsN2dJ6SnTEACr1qC5zpGg, UD7Y1CqfY6mDmRwIuCf6n...</td>\n",
       "      <td>Kevin</td>\n",
       "      <td>47</td>\n",
       "      <td>user</td>\n",
       "      <td>{u'funny': 8, u'useful': 46, u'cool': 10}</td>\n",
       "      <td>2011-11</td>\n",
       "      <td>2014-07-14</td>\n",
       "      <td>0</td>\n",
       "      <td>I've been told that they do open at 4 AM and i...</td>\n",
       "      <td>tip</td>\n",
       "    </tr>\n",
       "    <tr>\n",
       "      <th>1</th>\n",
       "      <td>{u'Alcohol': u'beer_and_wine', u'Noise Level':...</td>\n",
       "      <td>Q4ULAiIE2qCA4RYplCTrUQ</td>\n",
       "      <td>[Nightlife, Bars, Sandwiches, Restaurants]</td>\n",
       "      <td>Pittsburgh</td>\n",
       "      <td>46 18th St\\nStrip District\\nPittsburgh, PA 15222</td>\n",
       "      <td>{u'Monday': {u'close': u'06:00', u'open': u'06...</td>\n",
       "      <td>40.450742</td>\n",
       "      <td>-79.985538</td>\n",
       "      <td>Primanti Brothers</td>\n",
       "      <td>[Strip District]</td>\n",
       "      <td>...</td>\n",
       "      <td>[DsN2dJ6SnTEACr1qC5zpGg, UD7Y1CqfY6mDmRwIuCf6n...</td>\n",
       "      <td>Kevin</td>\n",
       "      <td>47</td>\n",
       "      <td>user</td>\n",
       "      <td>{u'funny': 8, u'useful': 46, u'cool': 10}</td>\n",
       "      <td>2011-11</td>\n",
       "      <td>2015-10-21</td>\n",
       "      <td>0</td>\n",
       "      <td>They take credit cards now!</td>\n",
       "      <td>tip</td>\n",
       "    </tr>\n",
       "    <tr>\n",
       "      <th>2</th>\n",
       "      <td>{u'Take-out': True, u'Accepts Credit Cards': T...</td>\n",
       "      <td>Zg5JB5GBqhmxt9W7tFKN7w</td>\n",
       "      <td>[American (Traditional), Restaurants]</td>\n",
       "      <td>Pittsburgh</td>\n",
       "      <td>2304 E Carson St\\nSouth Side\\nPittsburgh, PA 1...</td>\n",
       "      <td>{u'Monday': {u'close': u'02:00', u'open': u'16...</td>\n",
       "      <td>40.428197</td>\n",
       "      <td>-79.972693</td>\n",
       "      <td>The Library</td>\n",
       "      <td>[South Side]</td>\n",
       "      <td>...</td>\n",
       "      <td>[DsN2dJ6SnTEACr1qC5zpGg, UD7Y1CqfY6mDmRwIuCf6n...</td>\n",
       "      <td>Kevin</td>\n",
       "      <td>47</td>\n",
       "      <td>user</td>\n",
       "      <td>{u'funny': 8, u'useful': 46, u'cool': 10}</td>\n",
       "      <td>2011-11</td>\n",
       "      <td>2014-08-11</td>\n",
       "      <td>0</td>\n",
       "      <td>Pretty good AYCE wings special at $12 all day ...</td>\n",
       "      <td>tip</td>\n",
       "    </tr>\n",
       "    <tr>\n",
       "      <th>3</th>\n",
       "      <td>{u'Take-out': True, u'Takes Reservations': Fal...</td>\n",
       "      <td>816Z3Uc2jAZFHbyHr4W6Zg</td>\n",
       "      <td>[Food, Ice Cream &amp; Frozen Yogurt, Sandwiches, ...</td>\n",
       "      <td>Pittsburgh</td>\n",
       "      <td>5384 Mifflin Rd\\nPittsburgh, PA 15207</td>\n",
       "      <td>{}</td>\n",
       "      <td>40.368788</td>\n",
       "      <td>-79.910505</td>\n",
       "      <td>The Scoop</td>\n",
       "      <td>[]</td>\n",
       "      <td>...</td>\n",
       "      <td>[DsN2dJ6SnTEACr1qC5zpGg, UD7Y1CqfY6mDmRwIuCf6n...</td>\n",
       "      <td>Kevin</td>\n",
       "      <td>47</td>\n",
       "      <td>user</td>\n",
       "      <td>{u'funny': 8, u'useful': 46, u'cool': 10}</td>\n",
       "      <td>2011-11</td>\n",
       "      <td>2014-09-30</td>\n",
       "      <td>0</td>\n",
       "      <td>It's fall and they now have delicious pumpkin ...</td>\n",
       "      <td>tip</td>\n",
       "    </tr>\n",
       "    <tr>\n",
       "      <th>4</th>\n",
       "      <td>{u'Take-out': True, u'Price Range': 2, u'Outdo...</td>\n",
       "      <td>1qCuOcks5HRv67OHovAVpg</td>\n",
       "      <td>[Pubs, Bars, American (New), Nightlife, Restau...</td>\n",
       "      <td>Homestead</td>\n",
       "      <td>122 W 8th Ave\\nHomestead\\nHomestead, PA 15120</td>\n",
       "      <td>{}</td>\n",
       "      <td>40.405311</td>\n",
       "      <td>-79.912595</td>\n",
       "      <td>Duke's Upper Deck Cafe</td>\n",
       "      <td>[Homestead]</td>\n",
       "      <td>...</td>\n",
       "      <td>[fwsJGulnozT2U6FefsLiFw, Dsh4UCo9ny0XCrEJaF4aK...</td>\n",
       "      <td>Molly</td>\n",
       "      <td>146</td>\n",
       "      <td>user</td>\n",
       "      <td>{u'funny': 36, u'useful': 136, u'cool': 70}</td>\n",
       "      <td>2012-06</td>\n",
       "      <td>2014-10-18</td>\n",
       "      <td>0</td>\n",
       "      <td>Half priced appetizers after 9 on week nights.</td>\n",
       "      <td>tip</td>\n",
       "    </tr>\n",
       "  </tbody>\n",
       "</table>\n",
       "<p>5 rows × 36 columns</p>\n",
       "</div>"
      ],
      "text/plain": [
       "                                          attributes             business_id  \\\n",
       "0                                                 {}  6c2pWWtdQZA3w5raX6k-dg   \n",
       "1  {u'Alcohol': u'beer_and_wine', u'Noise Level':...  Q4ULAiIE2qCA4RYplCTrUQ   \n",
       "2  {u'Take-out': True, u'Accepts Credit Cards': T...  Zg5JB5GBqhmxt9W7tFKN7w   \n",
       "3  {u'Take-out': True, u'Takes Reservations': Fal...  816Z3Uc2jAZFHbyHr4W6Zg   \n",
       "4  {u'Take-out': True, u'Price Range': 2, u'Outdo...  1qCuOcks5HRv67OHovAVpg   \n",
       "\n",
       "                                          categories        city  \\\n",
       "0                           [Barbers, Beauty & Spas]   Homestead   \n",
       "1         [Nightlife, Bars, Sandwiches, Restaurants]  Pittsburgh   \n",
       "2              [American (Traditional), Restaurants]  Pittsburgh   \n",
       "3  [Food, Ice Cream & Frozen Yogurt, Sandwiches, ...  Pittsburgh   \n",
       "4  [Pubs, Bars, American (New), Nightlife, Restau...   Homestead   \n",
       "\n",
       "                                        full_address  \\\n",
       "0                  3510 Main St\\nHomestead, PA 15120   \n",
       "1   46 18th St\\nStrip District\\nPittsburgh, PA 15222   \n",
       "2  2304 E Carson St\\nSouth Side\\nPittsburgh, PA 1...   \n",
       "3              5384 Mifflin Rd\\nPittsburgh, PA 15207   \n",
       "4      122 W 8th Ave\\nHomestead\\nHomestead, PA 15120   \n",
       "\n",
       "                                               hours   latitude  longitude  \\\n",
       "0  {u'Tuesday': {u'close': u'17:30', u'open': u'0...  40.385508 -79.903491   \n",
       "1  {u'Monday': {u'close': u'06:00', u'open': u'06...  40.450742 -79.985538   \n",
       "2  {u'Monday': {u'close': u'02:00', u'open': u'16...  40.428197 -79.972693   \n",
       "3                                                 {}  40.368788 -79.910505   \n",
       "4                                                 {}  40.405311 -79.912595   \n",
       "\n",
       "            business_name     neighborhoods  ...    \\\n",
       "0   Carmine's Barber Shop                []  ...     \n",
       "1       Primanti Brothers  [Strip District]  ...     \n",
       "2             The Library      [South Side]  ...     \n",
       "3               The Scoop                []  ...     \n",
       "4  Duke's Upper Deck Cafe       [Homestead]  ...     \n",
       "\n",
       "                                             friends  user_name  \\\n",
       "0  [DsN2dJ6SnTEACr1qC5zpGg, UD7Y1CqfY6mDmRwIuCf6n...      Kevin   \n",
       "1  [DsN2dJ6SnTEACr1qC5zpGg, UD7Y1CqfY6mDmRwIuCf6n...      Kevin   \n",
       "2  [DsN2dJ6SnTEACr1qC5zpGg, UD7Y1CqfY6mDmRwIuCf6n...      Kevin   \n",
       "3  [DsN2dJ6SnTEACr1qC5zpGg, UD7Y1CqfY6mDmRwIuCf6n...      Kevin   \n",
       "4  [fwsJGulnozT2U6FefsLiFw, Dsh4UCo9ny0XCrEJaF4aK...      Molly   \n",
       "\n",
       "   user_review_count type_x                                   user_votes  \\\n",
       "0                 47   user    {u'funny': 8, u'useful': 46, u'cool': 10}   \n",
       "1                 47   user    {u'funny': 8, u'useful': 46, u'cool': 10}   \n",
       "2                 47   user    {u'funny': 8, u'useful': 46, u'cool': 10}   \n",
       "3                 47   user    {u'funny': 8, u'useful': 46, u'cool': 10}   \n",
       "4                146   user  {u'funny': 36, u'useful': 136, u'cool': 70}   \n",
       "\n",
       "  yelping_since   tip_date  likes  \\\n",
       "0       2011-11 2014-07-14      0   \n",
       "1       2011-11 2015-10-21      0   \n",
       "2       2011-11 2014-08-11      0   \n",
       "3       2011-11 2014-09-30      0   \n",
       "4       2012-06 2014-10-18      0   \n",
       "\n",
       "                                            tip_text type_y  \n",
       "0  I've been told that they do open at 4 AM and i...    tip  \n",
       "1                        They take credit cards now!    tip  \n",
       "2  Pretty good AYCE wings special at $12 all day ...    tip  \n",
       "3  It's fall and they now have delicious pumpkin ...    tip  \n",
       "4     Half priced appetizers after 9 on week nights.    tip  \n",
       "\n",
       "[5 rows x 36 columns]"
      ]
     },
     "execution_count": 10,
     "metadata": {},
     "output_type": "execute_result"
    }
   ],
   "source": [
    "TURBO_DF = pd.merge(business_and_user_and_review_DF, tip_DF, on=['user_id', 'business_id'], how='inner')\n",
    "TURBO_DF.head()"
   ]
  },
  {
   "cell_type": "code",
   "execution_count": 11,
   "metadata": {
    "collapsed": true
   },
   "outputs": [],
   "source": [
    "%xdel business_and_review_DF"
   ]
  },
  {
   "cell_type": "code",
   "execution_count": 12,
   "metadata": {
    "collapsed": false
   },
   "outputs": [
    {
     "name": "stdout",
     "output_type": "stream",
     "text": [
      "Once deleted, variables cannot be recovered. Proceed (y/[n])?  y\n"
     ]
    }
   ],
   "source": [
    "%reset_selective business_and_user_and_review_DF"
   ]
  },
  {
   "cell_type": "code",
   "execution_count": 13,
   "metadata": {
    "collapsed": false
   },
   "outputs": [
    {
     "name": "stdout",
     "output_type": "stream",
     "text": [
      "Once deleted, variables cannot be recovered. Proceed (y/[n])?  y\n",
      "Once deleted, variables cannot be recovered. Proceed (y/[n])?  y\n",
      "Once deleted, variables cannot be recovered. Proceed (y/[n])?  y\n",
      "Once deleted, variables cannot be recovered. Proceed (y/[n])?  y\n"
     ]
    }
   ],
   "source": [
    "%reset_selective business_DF\n",
    "%reset_selective user_DF\n",
    "%reset_selective review_DF\n",
    "%reset_selective tip_DF"
   ]
  },
  {
   "cell_type": "code",
   "execution_count": 15,
   "metadata": {
    "collapsed": false
   },
   "outputs": [],
   "source": [
    "TURBO_csv_filename = os.path.join( 'TURBO_p1.csv')\n",
    "\n",
    "if not os.path.isfile(TURBO_csv_filename):\n",
    "    TURBO_DF.to_csv(TURBO_csv_filename, index=False, encoding='utf-8')\n",
    "else:\n",
    "    TURBO_DF = pd.read_csv(TURBO_csv_filename)\n",
    "    \n"
   ]
  }
 ],
 "metadata": {
  "kernelspec": {
   "display_name": "Python 2",
   "language": "python",
   "name": "python2"
  },
  "language_info": {
   "codemirror_mode": {
    "name": "ipython",
    "version": 2
   },
   "file_extension": ".py",
   "mimetype": "text/x-python",
   "name": "python",
   "nbconvert_exporter": "python",
   "pygments_lexer": "ipython2",
   "version": "2.7.11"
  }
 },
 "nbformat": 4,
 "nbformat_minor": 0
}
