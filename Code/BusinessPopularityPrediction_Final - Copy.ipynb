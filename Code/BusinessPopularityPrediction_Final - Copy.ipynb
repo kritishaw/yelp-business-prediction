{
 "cells": [
  {
   "cell_type": "markdown",
   "metadata": {},
   "source": [
    "# Predicting future attention for a business"
   ]
  },
  {
   "cell_type": "code",
   "execution_count": 7,
   "metadata": {
    "collapsed": false
   },
   "outputs": [
    {
     "name": "stdout",
     "output_type": "stream",
     "text": [
      "0.18.0\n"
     ]
    },
    {
     "name": "stderr",
     "output_type": "stream",
     "text": [
      "C:\\Users\\kritz\\Anaconda2\\lib\\site-packages\\IPython\\core\\interactiveshell.py:2885: FutureWarning: \n",
      "mpl_style had been deprecated and will be removed in a future version.\n",
      "Use `matplotlib.pyplot.style.use` instead.\n",
      "\n",
      "  exec(code_obj, self.user_global_ns, self.user_ns)\n"
     ]
    }
   ],
   "source": [
    "import os\n",
    "import numpy as np\n",
    "import pandas as pd\n",
    "import matplotlib.pyplot as plt\n",
    "from pandas import Series, DataFrame\n",
    "\n",
    "%matplotlib inline\n",
    "pd.options.display.mpl_style = 'default'\n",
    "\n",
    "pd.set_option('display.max_columns', 36)\n",
    "print pd.__version__"
   ]
  },
  {
   "cell_type": "markdown",
   "metadata": {},
   "source": [
    "First we'll use NLTK to preprocess and tokenize text data"
   ]
  },
  {
   "cell_type": "code",
   "execution_count": 8,
   "metadata": {
    "collapsed": false
   },
   "outputs": [],
   "source": [
    "import nltk\n",
    "import string\n",
    "from nltk import word_tokenize\n",
    "from nltk.util import bigrams, trigrams\n",
    "from nltk.corpus import stopwords\n",
    "from nltk.stem.porter import PorterStemmer\n",
    "from collections import Counter\n",
    "\n"
   ]
  },
  {
   "cell_type": "markdown",
   "metadata": {},
   "source": [
    "Download extra stopwords and sentiment/opinion datasets in case we may use it later on"
   ]
  },
  {
   "cell_type": "code",
   "execution_count": 9,
   "metadata": {
    "collapsed": false
   },
   "outputs": [
    {
     "name": "stdout",
     "output_type": "stream",
     "text": [
      "Couldn't find program: u'bash'\n"
     ]
    }
   ],
   "source": [
    "%%bash\n",
    "# thank you Kevin Bouge http://sites.google.com/site/kevinbouge/stopwords-lists\n",
    "wget --quiet --output-document=more_stopwords.txt http://sites.google.com/site/kevinbouge/stopwords-lists/stopwords_en.txt?attredirects=0&d=1\n",
    "\n",
    "# http://www2.cs.uic.edu/~liub/\n",
    "# Hu, Minqing, and Bing Liu. \"Mining and summarizing customer reviews.\" Proceedings of the tenth ACM SIGKDD international conference on Knowledge discovery and data mining. ACM, 2004.\n",
    "# Liu, Bing, Minqing Hu, and Junsheng Cheng. \"Opinion observer: analyzing and comparing opinions on the web.\" Proceedings of the 14th international conference on World Wide Web. ACM, 2005.\n",
    "wget --quiet --output-document=opinions.rar http://www.cs.uic.edu/~liub/FBS/opinion-lexicon-English.rar\n",
    "unrar e -o+ --silent opinions.rar > /dev/null\n",
    "sed -i '/^;/d' positive-words.txt\n",
    "sed -i '/^;/d' negative-words.txt"
   ]
  },
  {
   "cell_type": "code",
   "execution_count": 10,
   "metadata": {
    "collapsed": false
   },
   "outputs": [],
   "source": [
    "POSITIVE_WORDS = set([line.strip() for line in open('positive-words.txt', 'r')])\n",
    "NEGATIVE_WORDS = set([line.strip() for line in open('negative-words.txt', 'r')])\n",
    "NLTK_STOPWORDS = set(stopwords.words('english'))\n",
    "MORE_STOPWORDS = set([line.strip() for line in open('more_stopwords.txt', 'r')])\n",
    "\n",
    "def remove_numbers_in_string(s):\n",
    "    return s.translate(None, string.digits)\n",
    "\n",
    "def lowercase_remove_punctuation(s):\n",
    "    s = s.lower()\n",
    "    s = s.translate(None, string.punctuation)\n",
    "    return s\n",
    "    \n",
    "def remove_stopwords(s):\n",
    "    token_list = nltk.word_tokenize(s)\n",
    "    exclude_stopwords = lambda token : token not in NLTK_STOPWORDS\n",
    "    return ' '.join(filter(exclude_stopwords, token_list))\n",
    "\n",
    "def filter_out_more_stopwords(token_list):\n",
    "    return filter(lambda tok : tok not in MORE_STOPWORDS, token_list)\n",
    "\n",
    "def stem_token_list(token_list):\n",
    "    STEMMER = PorterStemmer()\n",
    "    return [STEMMER.stem(tok.decode('utf-8')) for tok in token_list]\n",
    "\n",
    "def restring_tokens(token_list):\n",
    "    return ' '.join(token_list)\n",
    "\n",
    "def lowercase_remove_punctuation_and_numbers_and_tokenize_and_filter_more_stopwords_and_stem_and_restring(s):\n",
    "    s = remove_numbers_in_string(s)\n",
    "    s = lowercase_remove_punctuation(s)\n",
    "    s = remove_stopwords(s)\n",
    "    token_list = nltk.word_tokenize(s)\n",
    "    token_list = filter_out_more_stopwords(token_list)\n",
    "    token_list = stem_token_list(token_list)\n",
    "    return restring_tokens(token_list)"
   ]
  },
  {
   "cell_type": "markdown",
   "metadata": {},
   "source": [
    "Use TURBO dataset from DataWrangling and EDA notebooks"
   ]
  },
  {
   "cell_type": "code",
   "execution_count": 11,
   "metadata": {
    "collapsed": false
   },
   "outputs": [],
   "source": [
    "turbo_csv_filename = os.path.join(\"./\", 'turbo_predict.csv')\n",
    "TURBO_DF = pd.read_csv(turbo_csv_filename)\n"
   ]
  },
  {
   "cell_type": "code",
   "execution_count": 12,
   "metadata": {
    "collapsed": false
   },
   "outputs": [
    {
     "name": "stdout",
     "output_type": "stream",
     "text": [
      "big guy fine job make strip mall bar potenti favorit servic fast friendli eat friend food look smell high qualiti drink price good pour eclect crowd gentl manner bit fun bathroom clean uncrowd flat screen tv varieti event open atmospher cleanli welcom feel tabl mildli sticki paint nonclublik bar chill feel place good crowd thursday fit walk life pint great beer select cheer ya\n",
      "\n",
      "neg review close thought give staff nice run promot favorit sandwich didnt notic slow servic nice place\n",
      "\n",
      "order onlin pick order grill chicken pizza buffalo wing great price great custom servic food good\n",
      "\n",
      "vye desert mission food bank yelper stuck grab brunch someplac sunnyslop lot option chose im proud fellow yelper decid place review eye open famili restaur tom tini phoenix familyown diner open day week pm breakfast lunch morn ritual sunnyslop longtim resid favorit thing sunnyslop small town feel access urban amen phoenix place eye open feed sens place hal owner kind man love liabl tabl fill coffe cup make evid view custom extend famili thing eat eye open standard egg toast hash brown breakfast chef omelet egg white fill yummi thing ham green chili top chees gyro tzasiki sauc delici flavor dill menu hal make hummu delici\n",
      "\n",
      "time lunch work door costco decent food rave good lunch special day remodel interior close week insid nice invit modern start date refresh great manag fantast make your care day dont feel come im nice option close case sound appeal day\n",
      "\n"
     ]
    }
   ],
   "source": [
    "for idx in range(5):\n",
    "    print TURBO_DF.review_text[idx]\n",
    "    print"
   ]
  },
  {
   "cell_type": "code",
   "execution_count": 13,
   "metadata": {
    "collapsed": false
   },
   "outputs": [
    {
     "name": "stdout",
     "output_type": "stream",
     "text": [
      "Wall time: 2.18 s\n",
      "big guy fine job make strip mall bar potenti favorit servic fast friendli eat friend food smell high qualiti drink price good pour eclect crowd gentl manner bit fun bathroom clean uncrowd flat screen tv varieti event open atmosph cleanli welcom feel tabl mildli sticki paint nonclublik bar chill feel place good crowd thursday fit walk life pint great beer select cheer ya\n",
      "\n",
      "neg review close thought give staff nice run promot favorit sandwich didnt notic slow servic nice place\n",
      "\n",
      "order onlin pick order grill chicken pizza buffalo wing great price great custom servic food good\n",
      "\n",
      "vye desert mission food bank yelper stuck grab brunch someplac sunnyslop lot option chose im proud fellow yelper decid place review eye open famili restaur tom tini phoenix familyown diner open day week pm breakfast lunch morn ritual sunnyslop longtim resid favorit thing sunnyslop small town feel access urban amen phoenix place eye open feed sen place hal owner kind man love liabl tabl fill coff cup make evid view custom extend famili thing eat eye open standard egg toast hash brown breakfast chef omelet egg white fill yummi thing ham green chili top chee gyro tzasiki sauc delici flavor dill menu hal make hummu delici\n",
      "\n",
      "time lunch work door costco decent food rave good lunch special day remodel interior close week insid nice invit modern start date refresh great manag fantast make care day dont feel im nice option close case sound appeal day\n",
      "\n"
     ]
    },
    {
     "name": "stderr",
     "output_type": "stream",
     "text": [
      "C:\\Users\\kritz\\Anaconda2\\lib\\site-packages\\ipykernel\\__main__.py:1: SettingWithCopyWarning: \n",
      "A value is trying to be set on a copy of a slice from a DataFrame.\n",
      "Try using .loc[row_indexer,col_indexer] = value instead\n",
      "\n",
      "See the caveats in the documentation: http://pandas.pydata.org/pandas-docs/stable/indexing.html#indexing-view-versus-copy\n",
      "  if __name__ == '__main__':\n"
     ]
    }
   ],
   "source": [
    "initial_features = ['business_id', 'business_name', 'review_stars', 'review_text','business_review_count','business_attention']\n",
    "df_with_initial_features_and_preprocessed_review_text = TURBO_DF[initial_features]\n",
    "%time df_with_initial_features_and_preprocessed_review_text['review_text'] = df_with_initial_features_and_preprocessed_review_text['review_text'].apply(lowercase_remove_punctuation_and_numbers_and_tokenize_and_filter_more_stopwords_and_stem_and_restring)\n",
    "\n",
    "for idx in range(5):\n",
    "    print df_with_initial_features_and_preprocessed_review_text.review_text[idx]\n",
    "    print"
   ]
  },
  {
   "cell_type": "markdown",
   "metadata": {},
   "source": [
    "Next, import sklearn functions and partition the data into training and test subsets"
   ]
  },
  {
   "cell_type": "code",
   "execution_count": 14,
   "metadata": {
    "collapsed": false
   },
   "outputs": [],
   "source": [
    "from sklearn.cross_validation import train_test_split\n",
    "from sklearn.feature_extraction.text import CountVectorizer, TfidfVectorizer\n",
    "from sklearn.naive_bayes import *\n",
    "from sklearn.svm import SVC\n",
    "from sklearn.linear_model import LogisticRegression\n",
    "from sklearn.multiclass import OneVsRestClassifier\n",
    "from sklearn.ensemble import RandomForestClassifier, AdaBoostClassifier\n",
    "from sklearn import metrics\n",
    "from sklearn.metrics import confusion_matrix, classification_report, precision_score, recall_score, roc_auc_score"
   ]
  },
  {
   "cell_type": "code",
   "execution_count": 15,
   "metadata": {
    "collapsed": false
   },
   "outputs": [],
   "source": [
    "from sklearn.ensemble import RandomForestClassifier\n",
    "from sklearn import svm\n",
    "import numpy as np\n",
    "from numpy import genfromtxt, savetxt\n",
    "import sys\n",
    "import random\n",
    "\n",
    "training_labels = genfromtxt(open('training2.csv','r'), delimiter=',', usecols=0, dtype=str)[0:]\n",
    "training_data = genfromtxt(open('training2.csv','r'), delimiter=',', dtype='f8')[:,1:]\n",
    "\n",
    "test_labels = genfromtxt(open('testing2.csv','r'), delimiter=',', usecols=0, dtype=str)[0:]\n",
    "test_data = genfromtxt(open('testing2.csv','r'), delimiter=',', dtype='f8')[:,1:]\n",
    "\n",
    "\n",
    "\n",
    "\n",
    "\n",
    "\n",
    "\n",
    "\n",
    "\n",
    "\n",
    "\n",
    "\n",
    "\n",
    "\n",
    "\n",
    "\n"
   ]
  },
  {
   "cell_type": "markdown",
   "metadata": {},
   "source": [
    "Visualize through Confusion Matrix"
   ]
  },
  {
   "cell_type": "code",
   "execution_count": 16,
   "metadata": {
    "collapsed": false
   },
   "outputs": [],
   "source": [
    "def make_confusion_matrix_relative(confusion_matrix):\n",
    "    star_category_classes = [1, 2, 3, 4, 5]\n",
    "    N = [1, 2, 3, 4, 5]\n",
    "    relative_confusion_matrix = np.empty((len(star_category_classes), len(star_category_classes)))\n",
    "    \n",
    "    for j in range(0, len(star_category_classes)):\n",
    "        if N[j] > 0:\n",
    "            relative_frequency = confusion_matrix[j, :] / float(N[j])\n",
    "            relative_confusion_matrix[j, :] = relative_frequency\n",
    "            \n",
    "    return relative_confusion_matrix\n",
    "\n",
    "# http://www.wenda.io/questions/4330313/heatmap-with-text-in-each-cell-with-matplotlibs-pyplot.html\n",
    "# http://stackoverflow.com/questions/20520246/create-heatmap-using-pandas-timeseries\n",
    "# http://sebastianraschka.com/Articles/heatmaps_in_r.html\n",
    "# http://code.activestate.com/recipes/578175-hierarchical-clustering-heatmap-python/\n",
    "def plot_confusion_matrix(confusion_matrix=[[]], title='CM', savefilename=''):\n",
    "    rcm = make_confusion_matrix_relative(confusion_matrix)\n",
    "    #plt.imshow(rcm, vmin=0, vmax=1, interpolation='nearest')\n",
    "    c = plt.pcolor(rcm, edgecolors='k', linewidths=4, cmap='jet', vmin=0.0, vmax=1.0)\n",
    "    plt.title(title)\n",
    "    plt.colorbar()\n",
    "    plt.ylabel('Actual Label')\n",
    "    plt.xlabel('Predicted Label')\n",
    "    plt.xticks(0.5 + np.arange(5), np.arange(1,6))\n",
    "    plt.yticks(0.5 + np.arange(5), np.arange(1,6))\n",
    "\n",
    "    def show_values(pc, fmt=\"%.2f\", **kw):\n",
    "        from itertools import izip\n",
    "        pc.update_scalarmappable()\n",
    "        ax = pc.get_axes()\n",
    "        for p, color, value in izip(pc.get_paths(), pc.get_facecolors(), pc.get_array()):\n",
    "            x, y = p.vertices[:-2, :].mean(0)\n",
    "            if sum(color[:2] > 0.3) >= 2:\n",
    "                color = (0.0, 0.0, 0.0)\n",
    "            else:\n",
    "                color = (1.0, 1.0, 1.0)\n",
    "            ax.text(x, y, fmt % value, ha=\"center\", va=\"center\", color=color, **kw)\n",
    "    \n",
    "    show_values(c)\n",
    "\n",
    "    if savefilename:\n",
    "        plt.savefig(savefilename, bbox_inches='tight')\n",
    "    \n",
    "    return plt.show()"
   ]
  },
  {
   "cell_type": "markdown",
   "metadata": {},
   "source": [
    "Print classifier performance metrics"
   ]
  },
  {
   "cell_type": "code",
   "execution_count": 17,
   "metadata": {
    "collapsed": false
   },
   "outputs": [],
   "source": [
    "def print_classifier_performance_metrics(name, predictions):\n",
    "    target_names = ['very low', 'low', 'medium', 'high', 'very high']\n",
    "    \n",
    "    print \"MODEL: %s\" % name\n",
    "    print\n",
    "\n",
    "    print 'Precision: ' + str(metrics.precision_score(test_labels, predictions))\n",
    "    print 'Recall: ' + str(metrics.recall_score(test_labels, predictions))\n",
    "    print 'F1: ' + str(metrics.f1_score(test_labels, predictions))\n",
    "    print 'Accuracy: ' + str(metrics.accuracy_score(test_labels, predictions))\n",
    "\n",
    "    print\n",
    "    print 'Classification Report:'\n",
    "    print classification_report(test_labels, predictions, target_names=target_names)\n",
    "    \n",
    "    print\n",
    "    print 'Precision variance: %f' % np.var(precision_score(test_labels, predictions, average=None), ddof=len(target_names)-1)\n",
    "    \n",
    "    print\n",
    "    print 'Recall variance: %f' % np.var(recall_score(test_labels, predictions, average=None), ddof=len(target_names)-1)"
   ]
  },
  {
   "cell_type": "markdown",
   "metadata": {},
   "source": [
    "### Random Forest 100 Learners Model"
   ]
  },
  {
   "cell_type": "code",
   "execution_count": 18,
   "metadata": {
    "collapsed": false
   },
   "outputs": [],
   "source": [
    "forest100 = RandomForestClassifier(n_estimators = 100, random_state=42)"
   ]
  },
  {
   "cell_type": "markdown",
   "metadata": {},
   "source": [
    "Transform Yelp reviews into feature vectors"
   ]
  },
  {
   "cell_type": "markdown",
   "metadata": {},
   "source": [
    "Make predictions with random forest set at 100 learners"
   ]
  },
  {
   "cell_type": "code",
   "execution_count": 19,
   "metadata": {
    "collapsed": false
   },
   "outputs": [
    {
     "name": "stdout",
     "output_type": "stream",
     "text": [
      "Wall time: 305 ms\n"
     ]
    }
   ],
   "source": [
    "%time forest100.fit(training_data, training_labels)\n",
    "forest100_pred = forest100.predict(test_data)\n",
    "np.save('forest100pred', forest100_pred)"
   ]
  },
  {
   "cell_type": "markdown",
   "metadata": {},
   "source": [
    "Visualize results in confusion matrix"
   ]
  },
  {
   "cell_type": "code",
   "execution_count": 20,
   "metadata": {
    "collapsed": false
   },
   "outputs": [
    {
     "name": "stderr",
     "output_type": "stream",
     "text": [
      "C:\\Users\\kritz\\Anaconda2\\lib\\site-packages\\matplotlib\\artist.py:221: MatplotlibDeprecationWarning: This has been deprecated in mpl 1.5, please use the\n",
      "axes property.  A removal date has not been set.\n",
      "  warnings.warn(_get_axes_msg, mplDeprecation, stacklevel=1)\n"
     ]
    },
    {
     "data": {
      "image/png": "[encoded data removed]",
      "text/plain": [
       "<matplotlib.figure.Figure at 0xca9c2e8>"
      ]
     },
     "metadata": {},
     "output_type": "display_data"
    }
   ],
   "source": [
    "random_forest_confusion_matrix = confusion_matrix(test_labels, forest100_pred)\n",
    "plot_confusion_matrix(random_forest_confusion_matrix, 'Random Forest (100 Learners) Confusion Matrix',\n",
    "                      savefilename='RandomForestCM.png')"
   ]
  },
  {
   "cell_type": "code",
   "execution_count": 77,
   "metadata": {
    "collapsed": false
   },
   "outputs": [
    {
     "name": "stdout",
     "output_type": "stream",
     "text": [
      "MODEL: Random Forest (100 Learners)\n",
      "\n",
      "Precision: 0.940232734284\n",
      "Recall: 0.956310679612\n",
      "F1: 0.945914162721\n",
      "Accuracy: 0.956310679612\n",
      "\n",
      "Classification Report:\n",
      "             precision    recall  f1-score   support\n",
      "\n",
      "   very low       1.00      1.00      1.00       147\n",
      "        low       0.98      1.00      0.99        46\n",
      "     medium       0.33      0.80      0.47         5\n",
      "       high       0.00      0.00      0.00         2\n",
      "  very high       0.00      0.00      0.00         6\n",
      "\n",
      "avg / total       0.94      0.96      0.95       206\n",
      "\n",
      "\n",
      "Precision variance: 0.999889\n",
      "\n",
      "Recall variance: 1.072000\n"
     ]
    },
    {
     "name": "stderr",
     "output_type": "stream",
     "text": [
      "C:\\Users\\kritz\\Anaconda2\\lib\\site-packages\\sklearn\\metrics\\classification.py:1203: DeprecationWarning: The default `weighted` averaging is deprecated, and from version 0.18, use of precision, recall or F-score with multiclass or multilabel data or pos_label=None will result in an exception. Please set an explicit value for `average`, one of (None, 'micro', 'macro', 'weighted', 'samples'). In cross validation use, for instance, scoring=\"f1_weighted\" instead of scoring=\"f1\".\n",
      "  sample_weight=sample_weight)\n",
      "C:\\Users\\kritz\\Anaconda2\\lib\\site-packages\\sklearn\\metrics\\classification.py:1304: DeprecationWarning: The default `weighted` averaging is deprecated, and from version 0.18, use of precision, recall or F-score with multiclass or multilabel data or pos_label=None will result in an exception. Please set an explicit value for `average`, one of (None, 'micro', 'macro', 'weighted', 'samples'). In cross validation use, for instance, scoring=\"f1_weighted\" instead of scoring=\"f1\".\n",
      "  sample_weight=sample_weight)\n",
      "C:\\Users\\kritz\\Anaconda2\\lib\\site-packages\\sklearn\\metrics\\classification.py:756: DeprecationWarning: The default `weighted` averaging is deprecated, and from version 0.18, use of precision, recall or F-score with multiclass or multilabel data or pos_label=None will result in an exception. Please set an explicit value for `average`, one of (None, 'micro', 'macro', 'weighted', 'samples'). In cross validation use, for instance, scoring=\"f1_weighted\" instead of scoring=\"f1\".\n",
      "  sample_weight=sample_weight)\n"
     ]
    }
   ],
   "source": [
    "print_classifier_performance_metrics('Random Forest (100 Learners)', forest100_pred)"
   ]
  },
  {
   "cell_type": "markdown",
   "metadata": {},
   "source": [
    "### SVC Model"
   ]
  },
  {
   "cell_type": "markdown",
   "metadata": {},
   "source": [
    "Initialize feature vector and SVC model"
   ]
  },
  {
   "cell_type": "code",
   "execution_count": 78,
   "metadata": {
    "collapsed": false
   },
   "outputs": [],
   "source": [
    "svc_feature_matrix_train = training_data\n",
    "svc_feature_matrix_test = test_data\n",
    "\n",
    "svc = SVC()"
   ]
  },
  {
   "cell_type": "markdown",
   "metadata": {},
   "source": [
    "Train SVC model"
   ]
  },
  {
   "cell_type": "code",
   "execution_count": 79,
   "metadata": {
    "collapsed": false
   },
   "outputs": [
    {
     "name": "stdout",
     "output_type": "stream",
     "text": [
      "Wall time: 878 ms\n"
     ]
    },
    {
     "data": {
      "text/plain": [
       "SVC(C=1.0, cache_size=200, class_weight=None, coef0=0.0,\n",
       "  decision_function_shape=None, degree=3, gamma='auto', kernel='rbf',\n",
       "  max_iter=-1, probability=False, random_state=None, shrinking=True,\n",
       "  tol=0.001, verbose=False)"
      ]
     },
     "execution_count": 79,
     "metadata": {},
     "output_type": "execute_result"
    }
   ],
   "source": [
    "%time svc.fit(svc_feature_matrix_train, training_labels) "
   ]
  },
  {
   "cell_type": "code",
   "execution_count": 80,
   "metadata": {
    "collapsed": false
   },
   "outputs": [
    {
     "name": "stdout",
     "output_type": "stream",
     "text": [
      "Wall time: 38 ms\n"
     ]
    }
   ],
   "source": [
    "%time svc_predictions = svc.predict(svc_feature_matrix_test)\n",
    "np.save('svcPred', svc_predictions)"
   ]
  },
  {
   "cell_type": "code",
   "execution_count": 81,
   "metadata": {
    "collapsed": false
   },
   "outputs": [],
   "source": [
    "if os.path.isfile('svcPred.npy'):\n",
    "    svc_predictions = np.load('svcPred.npy')"
   ]
  },
  {
   "cell_type": "code",
   "execution_count": 82,
   "metadata": {
    "collapsed": false
   },
   "outputs": [
    {
     "data": {
      "image/png": "[encoded data removed]",
      "text/plain": [
       "<matplotlib.figure.Figure at 0xbef20f0>"
      ]
     },
     "metadata": {},
     "output_type": "display_data"
    }
   ],
   "source": [
    "svc_confusion_matrix = confusion_matrix(test_labels, svc_predictions)\n",
    "plot_confusion_matrix(svc_confusion_matrix, 'SVC Confusion Matrix', savefilename='SVC_CM.png')"
   ]
  },
  {
   "cell_type": "code",
   "execution_count": 83,
   "metadata": {
    "collapsed": false
   },
   "outputs": [
    {
     "name": "stdout",
     "output_type": "stream",
     "text": [
      "MODEL: SVC\n",
      "\n",
      "Precision: 0.509213875012\n",
      "Recall: 0.71359223301\n",
      "F1: 0.594323276218\n",
      "Accuracy: 0.71359223301\n",
      "\n",
      "Classification Report:\n",
      "             precision    recall  f1-score   support\n",
      "\n",
      "   very low       0.71      1.00      0.83       147\n",
      "        low       0.00      0.00      0.00        46\n",
      "     medium       0.00      0.00      0.00         5\n",
      "       high       0.00      0.00      0.00         2\n",
      "  very high       0.00      0.00      0.00         6\n",
      "\n",
      "avg / total       0.51      0.71      0.59       206\n",
      "\n",
      "\n",
      "Precision variance: 0.407371\n",
      "\n",
      "Recall variance: 0.800000\n"
     ]
    },
    {
     "name": "stderr",
     "output_type": "stream",
     "text": [
      "C:\\Users\\kritz\\Anaconda2\\lib\\site-packages\\sklearn\\metrics\\classification.py:1203: DeprecationWarning: The default `weighted` averaging is deprecated, and from version 0.18, use of precision, recall or F-score with multiclass or multilabel data or pos_label=None will result in an exception. Please set an explicit value for `average`, one of (None, 'micro', 'macro', 'weighted', 'samples'). In cross validation use, for instance, scoring=\"f1_weighted\" instead of scoring=\"f1\".\n",
      "  sample_weight=sample_weight)\n",
      "C:\\Users\\kritz\\Anaconda2\\lib\\site-packages\\sklearn\\metrics\\classification.py:1304: DeprecationWarning: The default `weighted` averaging is deprecated, and from version 0.18, use of precision, recall or F-score with multiclass or multilabel data or pos_label=None will result in an exception. Please set an explicit value for `average`, one of (None, 'micro', 'macro', 'weighted', 'samples'). In cross validation use, for instance, scoring=\"f1_weighted\" instead of scoring=\"f1\".\n",
      "  sample_weight=sample_weight)\n",
      "C:\\Users\\kritz\\Anaconda2\\lib\\site-packages\\sklearn\\metrics\\classification.py:756: DeprecationWarning: The default `weighted` averaging is deprecated, and from version 0.18, use of precision, recall or F-score with multiclass or multilabel data or pos_label=None will result in an exception. Please set an explicit value for `average`, one of (None, 'micro', 'macro', 'weighted', 'samples'). In cross validation use, for instance, scoring=\"f1_weighted\" instead of scoring=\"f1\".\n",
      "  sample_weight=sample_weight)\n"
     ]
    }
   ],
   "source": [
    "print_classifier_performance_metrics('SVC', svc_predictions)"
   ]
  },
  {
   "cell_type": "code",
   "execution_count": 84,
   "metadata": {
    "collapsed": false
   },
   "outputs": [
    {
     "name": "stdout",
     "output_type": "stream",
     "text": [
      "['1' '1' '1' '1' '1' '1' '1' '1' '1' '1' '1' '1' '1' '1' '1' '1' '1' '1'\n",
      " '1' '1' '1' '1' '1' '1' '1' '1' '1' '1' '1' '1' '1' '1' '1' '1' '1' '1'\n",
      " '1' '1' '1' '1' '1' '1' '1' '1' '1' '1' '1' '1' '1' '1' '1' '1' '1' '1'\n",
      " '1' '1' '1' '1' '1' '1' '1' '1' '1' '1' '1' '1' '1' '1' '2' '1' '1' '1'\n",
      " '1' '1' '1' '1' '1' '1' '1' '1' '1' '1' '1' '1' '1' '1' '1' '1' '1' '1'\n",
      " '1' '1' '1' '1' '1' '1' '1' '1' '1' '2' '2' '2' '2' '1' '2' '2' '2' '3'\n",
      " '2' '2' '2' '2' '3' '4' '2' '2' '2' '2' '1' '2' '3' '2' '3' '3' '1' '2'\n",
      " '2' '2' '1' '1' '1' '2' '2' '3' '2' '3' '2' '1' '1' '1' '1' '1' '1' '1'\n",
      " '1' '2' '1' '1' '1' '1' '1' '2' '2' '1' '1' '1' '1' '1' '2' '2' '1' '1'\n",
      " '2' '2' '1' '1' '2' '1' '1' '1' '2' '1' '1' '2' '1' '1' '1' '2' '1' '1'\n",
      " '1' '1' '1' '1' '1' '3' '2' '2' '2' '2' '1' '1' '1' '1' '2' '2' '2' '3'\n",
      " '2' '3' '3' '2' '2' '2' '1' '1']\n",
      "Misclassification Error using Random Forest : 4.368932\n",
      "Misclassification Error using SVM : 5.339806\n"
     ]
    }
   ],
   "source": [
    "from sklearn.ensemble import RandomForestClassifier\n",
    "from sklearn import svm\n",
    "import numpy as np\n",
    "from numpy import genfromtxt, savetxt\n",
    "import sys\n",
    "import random\n",
    "\n",
    "def print_misclassification_error():\n",
    "\ttraining_labels = genfromtxt(open('training2.csv','r'), delimiter=',', usecols=0, dtype=str)[0:]\n",
    "\ttraining_data = genfromtxt(open('training2.csv','r'), delimiter=',', dtype='f8')[:,1:]\n",
    "\n",
    "\ttest_labels = genfromtxt(open('testing2.csv','r'), delimiter=',', usecols=0, dtype=str)[0:]\n",
    "\ttest_data = genfromtxt(open('testing2.csv','r'), delimiter=',', dtype='f8')[:,1:]\n",
    "\n",
    "\t#RandomForest\n",
    "\n",
    "\trf = RandomForestClassifier(n_estimators=100)\n",
    "\trf.fit(training_data,training_labels)\n",
    "\n",
    "\tpredict_rf = rf.predict(test_data)\n",
    "\tprint predict_rf\n",
    "\tactual = np.array(test_labels)\n",
    "\tpredicted_rf = np.array(predict_rf)\n",
    "\n",
    "\terror_rf = np.sum(actual!=predicted_rf)\n",
    "\n",
    "\t#SVM\n",
    "\n",
    "\tclf = svm.SVC(C=0.001,kernel=\"linear\")\n",
    "\tclf.fit(training_data,training_labels)\n",
    "\tpredict_svm = clf.predict(test_data)\n",
    "\tpredicted_svm = np.array(predict_svm)\n",
    "\t\n",
    "\t#print predicted_svm\n",
    "\terror_svm = np.sum(actual!=predicted_svm)\n",
    "\t\n",
    "\tmisclassification_error_rf = error_rf/(len(test_data)*1.0)*100\n",
    "\tmisclassification_error_svm = error_svm/(len(test_data)*1.0)*100\n",
    "\tprint \"Misclassification Error using Random Forest : %f\" % misclassification_error_rf\n",
    "\tprint \"Misclassification Error using SVM : %f\" % misclassification_error_svm\n",
    "\n",
    "\n",
    "if __name__ == '__main__':\n",
    "    print_misclassification_error()\n",
    "\n",
    "\n",
    "\n",
    "\n",
    "\n",
    "\n",
    "\n",
    "\n",
    "\n",
    "\n",
    "\n",
    "\n",
    "\n",
    "\n"
   ]
  },
  {
   "cell_type": "code",
   "execution_count": null,
   "metadata": {
    "collapsed": true
   },
   "outputs": [],
   "source": []
  },
  {
   "cell_type": "code",
   "execution_count": null,
   "metadata": {
    "collapsed": true
   },
   "outputs": [],
   "source": []
  },
  {
   "cell_type": "code",
   "execution_count": null,
   "metadata": {
    "collapsed": true
   },
   "outputs": [],
   "source": []
  },
  {
   "cell_type": "code",
   "execution_count": null,
   "metadata": {
    "collapsed": true
   },
   "outputs": [],
   "source": []
  },
  {
   "cell_type": "code",
   "execution_count": null,
   "metadata": {
    "collapsed": true
   },
   "outputs": [],
   "source": []
  }
 ],
 "metadata": {
  "kernelspec": {
   "display_name": "Python 2",
   "language": "python",
   "name": "python2"
  },
  "language_info": {
   "codemirror_mode": {
    "name": "ipython",
    "version": 2
   },
   "file_extension": ".py",
   "mimetype": "text/x-python",
   "name": "python",
   "nbconvert_exporter": "python",
   "pygments_lexer": "ipython2",
   "version": "2.7.11"
  }
 },
 "nbformat": 4,
 "nbformat_minor": 0
}
